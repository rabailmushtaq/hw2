{
 "cells": [
  {
   "cell_type": "code",
   "execution_count": 7,
   "id": "54511cf7",
   "metadata": {},
   "outputs": [
    {
     "name": "stdout",
     "output_type": "stream",
     "text": [
      "Collecting nbimporter\n",
      "  Downloading nbimporter-0.3.4-py3-none-any.whl (4.9 kB)\n",
      "Installing collected packages: nbimporter\n",
      "Successfully installed nbimporter-0.3.4\n"
     ]
    }
   ],
   "source": [
    "!pip install nbimporter"
   ]
  },
  {
   "cell_type": "code",
   "execution_count": 8,
   "id": "1d851812",
   "metadata": {},
   "outputs": [],
   "source": [
    "# Import the necessary functions from the main code notebook\n",
    "import nbimporter\n",
    "from math_quiz_ import generate_random_integer, generate_operator, calculate_result\n",
    "\n",
    "# Define and run your unit tests\n",
    "def test_generate_random_integer():\n",
    "    min_val = 1\n",
    "    max_val = 10\n",
    "    for _ in range(1000):\n",
    "        rand_num = generate_random_integer(min_val, max_val)\n",
    "        assert min_val <= rand_num <= max_val\n",
    "\n",
    "def test_generate_operator():\n",
    "    operators = ['+', '-', '*']\n",
    "    for _ in range(1000):\n",
    "        operator = generate_operator()\n",
    "        assert operator in operators\n",
    "\n",
    "def test_calculate_result():\n",
    "    test_cases = [\n",
    "        (5, 2, '+', '5 + 2', 7),\n",
    "        (10, 3, '-', '10 - 3', 7),\n",
    "        (4, 6, '*', '4 * 6', 24),\n",
    "    ]\n",
    "\n",
    "    for num1, num2, operator, expected_problem, expected_answer in test_cases:\n",
    "        problem, answer = calculate_result(num1, num2, operator)\n",
    "        assert problem == expected_problem\n",
    "        assert answer == expected_answer\n",
    "\n",
    "# Run the unit tests\n",
    "test_generate_random_integer()\n",
    "test_generate_operator()\n",
    "test_calculate_result()\n"
   ]
  },
  {
   "cell_type": "code",
   "execution_count": null,
   "id": "bb20f386",
   "metadata": {},
   "outputs": [],
   "source": []
  }
 ],
 "metadata": {
  "kernelspec": {
   "display_name": "Python 3 (ipykernel)",
   "language": "python",
   "name": "python3"
  },
  "language_info": {
   "codemirror_mode": {
    "name": "ipython",
    "version": 3
   },
   "file_extension": ".py",
   "mimetype": "text/x-python",
   "name": "python",
   "nbconvert_exporter": "python",
   "pygments_lexer": "ipython3",
   "version": "3.10.9"
  }
 },
 "nbformat": 4,
 "nbformat_minor": 5
}
